{
 "cells": [
  {
   "cell_type": "markdown",
   "id": "8d1d2bf9",
   "metadata": {},
   "source": [
    "### STAR WAYS EXIT SURVEYS\n",
    "\n",
    "**Background:**\n",
    "While waiting for Star Wars: The Force Awakens to come out, the team at FiveThirtyEight became interested in answering some questions about Star Wars fans. In particular, they wondered: does the rest of America realize that `“The Empire Strikes Back”` is clearly the best of the bunch?\n",
    "\n",
    "As a result, the team needed to collect data addressing this question. To do this,  Star Wars fans were surveyed using the online tool SurveyMonkey. A total of 835 total responses was received. \n",
    "\n",
    "**Goal:**\n",
    "The goal of this project is to answer questions about the `Star Wars Movie` for its fans. This dataset  will be cleaned and explored in this project. "
   ]
  },
  {
   "cell_type": "code",
   "execution_count": null,
   "id": "9290103d",
   "metadata": {},
   "outputs": [],
   "source": []
  }
 ],
 "metadata": {
  "kernelspec": {
   "display_name": "Python 3 (ipykernel)",
   "language": "python",
   "name": "python3"
  },
  "language_info": {
   "codemirror_mode": {
    "name": "ipython",
    "version": 3
   },
   "file_extension": ".py",
   "mimetype": "text/x-python",
   "name": "python",
   "nbconvert_exporter": "python",
   "pygments_lexer": "ipython3",
   "version": "3.9.12"
  }
 },
 "nbformat": 4,
 "nbformat_minor": 5
}
